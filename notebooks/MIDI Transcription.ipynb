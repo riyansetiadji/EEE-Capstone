{
 "cells": [
  {
   "cell_type": "code",
   "execution_count": null,
   "metadata": {
    "collapsed": false
   },
   "outputs": [],
   "source": [
    "from IPython.display import Audio\n",
    "import aifc\n",
    "import matplotlib.pyplot as plt\n",
    "plt.rcParams['figure.figsize'] = (10.0, 8.0)\n",
    "%matplotlib inline"
   ]
  },
  {
   "cell_type": "code",
   "execution_count": null,
   "metadata": {
    "collapsed": false
   },
   "outputs": [],
   "source": [
    "import os\n",
    "os.listdir('test_sounds')"
   ]
  },
  {
   "cell_type": "code",
   "execution_count": null,
   "metadata": {
    "collapsed": true
   },
   "outputs": [],
   "source": [
    "!mkdir -p test_sounds"
   ]
  },
  {
   "cell_type": "code",
   "execution_count": null,
   "metadata": {
    "collapsed": false
   },
   "outputs": [],
   "source": [
    "pure_notes = [\n",
    "    'http://www.emstechlab.com/library/sound/Instruments%20Various/PIANO%20C0.mp3',\n",
    "    'http://www.emstechlab.com/library/sound/Instruments%20Various/PIANO%20C1.mp3',\n",
    "    'http://www.emstechlab.com/library/sound/Instruments%20Various/PIANO%20C2.mp3',\n",
    "    'http://www.emstechlab.com/library/sound/Instruments%20Various/PIANO%20C3.mp3',\n",
    "    'http://www.emstechlab.com/library/sound/Instruments%20Various/PIANO%20C4.mp3',\n",
    "    'http://www.emstechlab.com/library/sound/Instruments%20Various/PIANO%20C5.mp3',\n",
    "    'http://www.emstechlab.com/library/sound/Instruments%20Various/PIANO%20G1.mp3',\n",
    "    'http://www.emstechlab.com/library/sound/Instruments%20Various/PIANO%20G2.mp3',\n",
    "]\n",
    "import re\n",
    "pattern = re.compile(r'.*%20((.*).mp3)')\n",
    "filename_url_map = {pattern.match(x).group(1) : \n",
    "                 pattern.match(x).group(0) for x in pure_notes}\n",
    "\n",
    "for fname, url in filename_url_map.iteritems():\n",
    "    !curl $url >> test_sounds/$fname"
   ]
  },
  {
   "cell_type": "code",
   "execution_count": null,
   "metadata": {
    "collapsed": false
   },
   "outputs": [],
   "source": [
    "note_signal_map = {}\n",
    "for note_name in os.listdir('test_sounds'):\n",
    "    filepath = os.path.join('test_sounds', note_name)\n",
    "    note_signal_map[note_name.replace('.mp3', '')] = librosa.load(filepath)\n",
    "note_signal_map"
   ]
  },
  {
   "cell_type": "code",
   "execution_count": null,
   "metadata": {
    "collapsed": false
   },
   "outputs": [],
   "source": [
    "for note_name, (signal, _) in note_signal_map.iteritems():\n",
    "    pitches, magnitudes = librosa.core.piptrack(signal)\n",
    "\n",
    "    f_max, t_max = np.unravel_index(np.argmax(magnitudes), magnitudes.shape)\n",
    "    print 'target = {}'.format(note_name)\n",
    "    print pitches[f_max, t_max]\n",
    "    print librosa.core.hz_to_note(pitches[f_max, t_max])"
   ]
  },
  {
   "cell_type": "code",
   "execution_count": null,
   "metadata": {
    "collapsed": false
   },
   "outputs": [],
   "source": [
    "import aubio\n",
    "dir(aubio)"
   ]
  },
  {
   "cell_type": "code",
   "execution_count": 2,
   "metadata": {
    "collapsed": false
   },
   "outputs": [
    {
     "name": "stdout",
     "output_type": "stream",
     "text": [
      "0.0,0.0\n",
      "0.0,0.0\n",
      "0.0,0.0\n",
      "0.0,0.0\n",
      "530.650512695,0.581795752048\n",
      "531.385986328,0.654402911663\n",
      "531.40045166,0.6820525527\n",
      "531.365234375,0.697379410267\n",
      "531.585021973,0.797416090965\n",
      "531.132995605,0.844552874565\n",
      "530.458862305,0.874559402466\n",
      "529.753845215,0.923275649548\n",
      "528.931762695,0.955531597137\n",
      "528.394775391,0.9719004035\n",
      "528.19342041,0.980644762516\n",
      "527.919677734,0.982390761375\n",
      "527.84552002,0.981659054756\n",
      "527.469299316,0.980647325516\n",
      "527.582824707,0.980270922184\n",
      "527.544250488,0.982501327991\n",
      "527.54473877,0.985568642616\n",
      "527.751647949,0.989246547222\n",
      "527.614135742,0.989926338196\n",
      "527.831359863,0.986980378628\n",
      "527.670593262,0.98440104723\n",
      "527.853637695,0.97636950016\n",
      "528.006591797,0.969183564186\n",
      "528.080444336,0.965604364872\n",
      "528.229309082,0.969976961613\n",
      "528.143737793,0.979882419109\n",
      "528.190185547,0.9875177145\n",
      "528.393249512,0.9883056283\n",
      "528.471740723,0.986840724945\n",
      "528.473937988,0.98606133461\n",
      "528.498046875,0.986815571785\n",
      "528.409179688,0.98792386055\n",
      "528.444458008,0.990083754063\n",
      "528.375427246,0.991836845875\n",
      "528.231384277,0.993017375469\n",
      "528.196105957,0.994229614735\n",
      "528.124450684,0.994246423244\n",
      "528.119506836,0.993911623955\n",
      "528.111206055,0.993647217751\n",
      "528.131835938,0.993601858616\n",
      "528.130249023,0.992377400398\n",
      "528.153686523,0.990933895111\n",
      "528.264770508,0.989224076271\n",
      "0.0,0.984840810299\n",
      "0.0,0.98154515028\n"
     ]
    },
    {
     "ename": "KeyboardInterrupt",
     "evalue": "",
     "output_type": "error",
     "traceback": [
      "\u001b[0;31m---------------------------------------------------------------------------\u001b[0m",
      "\u001b[0;31mKeyboardInterrupt\u001b[0m                         Traceback (most recent call last)",
      "\u001b[0;32m<ipython-input-2-5fcc83ddf833>\u001b[0m in \u001b[0;36m<module>\u001b[0;34m()\u001b[0m\n\u001b[1;32m    114\u001b[0m \u001b[0;34m\u001b[0m\u001b[0m\n\u001b[1;32m    115\u001b[0m \u001b[0msound_path\u001b[0m \u001b[0;34m=\u001b[0m \u001b[0;34m'test_sounds/C4.mp3'\u001b[0m\u001b[0;34m\u001b[0m\u001b[0m\n\u001b[0;32m--> 116\u001b[0;31m \u001b[0mget_pitch_for_times\u001b[0m\u001b[0;34m(\u001b[0m\u001b[0msound_path\u001b[0m\u001b[0;34m,\u001b[0m \u001b[0mget_onset_times\u001b[0m\u001b[0;34m(\u001b[0m\u001b[0msound_path\u001b[0m\u001b[0;34m)\u001b[0m\u001b[0;34m)\u001b[0m\u001b[0;34m\u001b[0m\u001b[0m\n\u001b[0m",
      "\u001b[0;32m<ipython-input-2-5fcc83ddf833>\u001b[0m in \u001b[0;36mget_pitch_for_times\u001b[0;34m(filepath, times, sr, downsample, win_s, hop_s, threshold, pitch_algorithm, pitch_unit)\u001b[0m\n\u001b[1;32m    103\u001b[0m         \u001b[0m_set_flag\u001b[0m \u001b[0;34m=\u001b[0m \u001b[0mFalse\u001b[0m\u001b[0;34m\u001b[0m\u001b[0m\n\u001b[1;32m    104\u001b[0m         \u001b[0m_working_sample\u001b[0m \u001b[0;34m=\u001b[0m \u001b[0m_target_sample\u001b[0m \u001b[0;31m#we want to find a confident pitch\u001b[0m\u001b[0;34m\u001b[0m\u001b[0m\n\u001b[0;32m--> 105\u001b[0;31m         \u001b[0;32mwhile\u001b[0m \u001b[0;34m(\u001b[0m\u001b[0;32mnot\u001b[0m \u001b[0m_set_flag\u001b[0m\u001b[0;34m)\u001b[0m \u001b[0;32mand\u001b[0m \u001b[0m_working_sample\u001b[0m \u001b[0;34m<\u001b[0m \u001b[0mlen\u001b[0m\u001b[0;34m(\u001b[0m\u001b[0mpitches\u001b[0m\u001b[0;34m)\u001b[0m \u001b[0;32mand\u001b[0m            \u001b[0;34m(\u001b[0m\u001b[0m_sample_index\u001b[0m \u001b[0;34m==\u001b[0m \u001b[0mlen\u001b[0m\u001b[0;34m(\u001b[0m\u001b[0mtarget_samples\u001b[0m\u001b[0;34m)\u001b[0m \u001b[0;34m-\u001b[0m \u001b[0;36m1\u001b[0m \u001b[0;32mor\u001b[0m             \u001b[0m_working_sample\u001b[0m \u001b[0;34m<\u001b[0m \u001b[0mtarget_samples\u001b[0m\u001b[0;34m[\u001b[0m\u001b[0m_sample_index\u001b[0m \u001b[0;34m+\u001b[0m \u001b[0;36m1\u001b[0m\u001b[0;34m]\u001b[0m\u001b[0;34m)\u001b[0m\u001b[0;34m:\u001b[0m\u001b[0;34m\u001b[0m\u001b[0m\n\u001b[0m\u001b[1;32m    106\u001b[0m                 \u001b[0;32mif\u001b[0m \u001b[0mconfidences\u001b[0m\u001b[0;34m[\u001b[0m\u001b[0m_working_sample\u001b[0m\u001b[0;34m]\u001b[0m \u001b[0;34m>=\u001b[0m \u001b[0mthreshold\u001b[0m\u001b[0;34m:\u001b[0m\u001b[0;34m\u001b[0m\u001b[0m\n\u001b[1;32m    107\u001b[0m                     \u001b[0m_set_flag\u001b[0m \u001b[0;34m=\u001b[0m \u001b[0mTrue\u001b[0m\u001b[0;34m\u001b[0m\u001b[0m\n",
      "\u001b[0;31mKeyboardInterrupt\u001b[0m: "
     ]
    }
   ],
   "source": [
    "import sys, librosa\n",
    "from aubio import source, onset\n",
    "\n",
    "\n",
    "def get_onset_times(filepath, sr=22050, win_s = 512,\n",
    "                   method='default'):\n",
    "    \"\"\"\n",
    "    INPUT:\n",
    "    filepath - path to audio file\n",
    "    sr - sample rate\n",
    "    win_s - fft window size\n",
    "    method - see http://aubio.org/manpages/latest/aubionotes.1.html for methods offered\n",
    "    \n",
    "    OUTPUT:\n",
    "    onset_times - array_type - times for when notes are believed to begin\n",
    "    \"\"\"\n",
    "    hop_s = win_s / 2           # hop size\n",
    "\n",
    "    filename = filepath\n",
    "    samplerate = sr\n",
    "\n",
    "    #set up the aubio system calls\n",
    "    s = source(filename, samplerate, hop_s)\n",
    "    samplerate = s.samplerate\n",
    "\n",
    "    o = onset(method, win_s, hop_s, samplerate)\n",
    "\n",
    "    # list of onsets, in samples\n",
    "    onsets = []\n",
    "\n",
    "    # total number of frames read\n",
    "    total_frames = 0\n",
    "    while True:\n",
    "        samples, read = s()\n",
    "        if o(samples):\n",
    "            #print \"%f\" % o.get_last_s()\n",
    "            onsets.append(o.get_last())\n",
    "        total_frames += read\n",
    "        if read < hop_s: break\n",
    "\n",
    "    #convert the onset samples to the corresponding time of occurrence and return\n",
    "    return librosa.core.samples_to_time(onsets, sr=samplerate)\n",
    "\n",
    "def get_pitch_for_times(filepath, times, sr=22050,\n",
    "                        downsample=1, win_s=4096, hop_s=512, threshold=0.8,\n",
    "                       pitch_algorithm='yin',\n",
    "                       pitch_unit='Hz'):\n",
    "    \"\"\"\n",
    "    INPUT:\n",
    "    filepath - string - path to audio file for which to extract pitch values\n",
    "    times - array-type - times for which to extract pitch values (typically onset times)\n",
    "    sr - sample rate - divided by downsample parameter\n",
    "    downsample - downsample factor\n",
    "    win_s - fft window size, is divided by downsample parameter\n",
    "    hop_s - hop size, is divided by downsample parameter\n",
    "    threshold - confidence threshold that must be exceed before assigning a pitch value\n",
    "    pitch_algorithm - one of [default, schmitt, fcomb, mcomb, specacf, yin, yinfft]\n",
    "    \n",
    "    OUTPUT:\n",
    "    pitch_values - pitch values for musical events beginning at each time in times\n",
    "    \n",
    "    NOTE: if no pitch is detected with confidence above 'threshold' between times[i] and times[i+1],\n",
    "    a pitch value of 0 will be assigned\n",
    "    \"\"\"\n",
    "    \n",
    "    from aubio import source, pitch, freqtomidi\n",
    "\n",
    "    filename = filepath\n",
    "    samplerate = sr / downsample\n",
    "    win_s = win_s / downsample # fft size\n",
    "    hop_s = hop_s  / downsample # hop size\n",
    "    tolerance = threshold\n",
    "    \n",
    "    target_samples = librosa.core.time_to_samples(times)\n",
    "    \n",
    "    s = source(filename, samplerate, hop_s)\n",
    "    samplerate = s.samplerate\n",
    "\n",
    "    pitch_o = pitch(pitch_algorithm, win_s, hop_s, samplerate)\n",
    "    pitch_o.set_unit(pitch_unit)\n",
    "    pitch_o.set_tolerance(tolerance)\n",
    "\n",
    "    pitches = []\n",
    "    confidences = []\n",
    "\n",
    "    # total number of frames read\n",
    "    total_frames = 0\n",
    "    while True:\n",
    "        samples, read = s()\n",
    "        if read == 0: break\n",
    "        pitch = pitch_o(samples)[0]\n",
    "        confidence = pitch_o.get_confidence()\n",
    "        print '{},{}'.format(pitch,confidence)\n",
    "        pitches.append(pitch)\n",
    "        confidences.append(confidence)\n",
    "        total_frames += read\n",
    "        if read < hop_s: break\n",
    "\n",
    "\n",
    "    #the pitches that we will return for the passed in times\n",
    "    target_pitches = []\n",
    "    for _sample_index, _target_sample in enumerate(target_samples):\n",
    "        #did we find a pitch we were confident about for this sample?\n",
    "        _set_flag = False\n",
    "        _working_sample = _target_sample #we want to find a confident pitch\n",
    "        while (not _set_flag) and _working_sample < len(pitches) and\\\n",
    "            (_sample_index == len(target_samples) - 1 or\\\n",
    "             _working_sample < target_samples[_sample_index + 1]):\n",
    "                if confidences[_working_sample] >= threshold:\n",
    "                    _set_flag = True\n",
    "                    target_pitches.append(pitches[_working_sample])\n",
    "        \n",
    "        if not _set_flag:\n",
    "            target_pitches.append(0)\n",
    "    return target_pitches\n",
    "\n",
    "\n",
    "sound_path = 'test_sounds/C4.mp3'\n",
    "get_pitch_for_times(sound_path, get_onset_times(sound_path))"
   ]
  },
  {
   "cell_type": "code",
   "execution_count": null,
   "metadata": {
    "collapsed": false
   },
   "outputs": [],
   "source": [
    "plt.plot(np.abs(librosa.core.stft(middle_c)))"
   ]
  }
 ],
 "metadata": {
  "kernelspec": {
   "display_name": "Python 2",
   "language": "python",
   "name": "python2"
  },
  "language_info": {
   "codemirror_mode": {
    "name": "ipython",
    "version": 2
   },
   "file_extension": ".py",
   "mimetype": "text/x-python",
   "name": "python",
   "nbconvert_exporter": "python",
   "pygments_lexer": "ipython2",
   "version": "2.7.11"
  }
 },
 "nbformat": 4,
 "nbformat_minor": 0
}
